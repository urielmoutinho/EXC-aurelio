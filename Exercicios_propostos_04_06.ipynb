{
  "nbformat": 4,
  "nbformat_minor": 0,
  "metadata": {
    "colab": {
      "name": "Exercicios_propostos_04/06.ipynb",
      "provenance": []
    },
    "kernelspec": {
      "name": "python3",
      "display_name": "Python 3"
    },
    "language_info": {
      "name": "python"
    }
  },
  "cells": [
    {
      "cell_type": "markdown",
      "source": [
        "Exercicio numero 1"
      ],
      "metadata": {
        "id": "2qfi7nJlLw_P"
      }
    },
    {
      "cell_type": "code",
      "execution_count": null,
      "metadata": {
        "id": "df6VuzZtLcu-"
      },
      "outputs": [],
      "source": [
        "import cv2 as cv # comando para importação do cv2\n",
        "from google.colab.patches import cv2_imshow # comando para dar show na propia tela\n",
        "from skimage import io # comando de leitura de imagem \n",
        "\n",
        "link = \"imagem.jpg\" # imagem.jpg é a imagem que voce vai utilizar do seus arquivos\n",
        "\n",
        "image = io.imread(link) # imagem em BGR\n",
        "image_rgb = cv.cvtColor(image, cv.COLOR_BGR2RGB) # comando de conversão da imagem para RGB com o OpenCV\n",
        "  \n",
        "result = cv.hconcat((image, image_rgb)) # comando feito para deixar as imagens lado a lado\n",
        "cv2_imshow(result)\n",
        "\n",
        "\n",
        "image_rgb_gray = cv.cvtColor(image_rgb, cv.COLOR_BGR2GRAY) # comando de conversão de imagem para escala cinza\n",
        "cv2_imshow(image_rgb_gray)\n"
      ]
    },
    {
      "cell_type": "markdown",
      "source": [
        "Exercicio numero 2"
      ],
      "metadata": {
        "id": "eJBVAApnL4Bn"
      }
    },
    {
      "cell_type": "code",
      "source": [
        "import cv2 as cv # comando para importação do cv2\n",
        "from google.colab.patches import cv2_imshow\n",
        "from skimage import io\n",
        "from PIL import Image \n",
        "\n",
        "link = \"imagem.jpg\" # imagem.jpg é a imagem que voce vai utilizar do seus arquivos\n",
        "\n",
        "image = io.imread(link) # comando de conversão da imagem para dados \n",
        "\n",
        "rostocascade = cv.CascadeClassifier(cv.data.haarcascades + 'haarcascade_frontalface_default.xml') # carregamento do algoritimo de detecção de rostos\n",
        "\n",
        "\n",
        "rostos = rostocascade.detectMultiScale(image, scaleFactor = 1.05, minNeighbors = 10, minSize = (50,50), flags = cv.CASCADE_SCALE_IMAGE) #comando para deteção de rosotos ser executado junto com a imagem escolhida.\n",
        "\n",
        "# comando feito para desenhar os retangulos nos rostos encontrados nas imagens\n",
        "for (x,y,w,h) in rostos:\n",
        "     cv.rectangle(image,(x,y),(x+w,y+h),(255,0,0),2)\n",
        "\n",
        "#impressão da imagem final com os rostos encontrados \n",
        "cv2_imshow(image)"
      ],
      "metadata": {
        "id": "qfgvJ1F_LgiA"
      },
      "execution_count": null,
      "outputs": []
    },
    {
      "cell_type": "markdown",
      "source": [
        "Exercicio numero 3\n",
        "\n"
      ],
      "metadata": {
        "id": "JEiEfthjL9Q2"
      }
    },
    {
      "cell_type": "code",
      "source": [
        "# instalação do tesseract e o pytesseract\n",
        "! sudo apt install tesseract-ocr \n",
        "! pip install pytesseract\n",
        "\n",
        "import pytesseract\n",
        "# impressão da imagem no google colab\n",
        "from google.colab.patches import cv2_imshow\n",
        "# algoritmos de processamento de imagens\n",
        "from skimage import io \n",
        "# biblioteca para suporte da abertura e gravação de imagens\n",
        "try:\n",
        " from PIL import Image\n",
        "except ImportError:\n",
        " import Image\n",
        "\n",
        "imagem = \"imagem.jpg\" # imagem.jpg é a imagem que voce vai utilizar do seus arquivos\n",
        "imglida = io.imread(imagem)\n",
        "cv2_imshow(imglida)\n",
        "\n",
        "# comando para utilização do pytesseract com isso é possivel retirar as informações da imagem\n",
        "texto = pytesseract.image_string(Image.open(imagem))\n",
        "print(\"\\n\")\n",
        "# comando de impressão do testo que estava na imagem\n",
        "print(texto)"
      ],
      "metadata": {
        "id": "e8pr8i2hLmLW"
      },
      "execution_count": null,
      "outputs": []
    }
  ]
}